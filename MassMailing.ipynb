{
 "cells": [
  {
   "cell_type": "code",
   "execution_count": 38,
   "id": "0d3beff0",
   "metadata": {},
   "outputs": [],
   "source": [
    "import smtplib\n",
    "from email.mime.multipart import MIMEMultipart\n",
    "from email.mime.text import MIMEText\n",
    "import pandas as pd\n",
    "import time\n",
    "import re\n",
    "from validate_email_address import validate_email"
   ]
  },
  {
   "cell_type": "markdown",
   "id": "e506b659",
   "metadata": {},
   "source": [
    "# User Data"
   ]
  },
  {
   "cell_type": "code",
   "execution_count": 39,
   "id": "e768bbfd",
   "metadata": {},
   "outputs": [],
   "source": [
    "with open(\"message.txt\", \"r\") as file:\n",
    "    message = file.read()\n",
    "\n",
    "user = {\n",
    "    \"email\" : \"",\n",
    "    \"password\" : \""\n",
    "}\n",
    "content = {\n",
    "    \"subject\" : \"Application for Internship as Software Developer\",\n",
    "    \"body\" : message\n",
    "}\n",
    "    \n",
    "smtp_server = \"smtp.gmail.com\"\n",
    "smtp_port = 587"
   ]
  },
  {
   "cell_type": "markdown",
   "id": "cb7fbd23-ae46-4e11-8e50-0f8dd434f2d8",
   "metadata": {},
   "source": [
    "# Functions"
   ]
  },
  {
   "cell_type": "code",
   "execution_count": 40,
   "id": "86b03d3d",
   "metadata": {
    "scrolled": true
   },
   "outputs": [],
   "source": [
    "def is_valid_email(email):\n",
    "    return validate_email(email)\n",
    "\n",
    "def sendmail():\n",
    "    context = smtplib.SMTP(smtp_server, smtp_port)\n",
    "    context.starttls()\n",
    "    context.login(user[\"email\"], user[\"password\"])\n",
    "\n",
    "    df_read = pd.read_csv('maildone.csv')\n",
    "    read_recipients = list(df_read['Email'])\n",
    "    i = 0\n",
    "    \n",
    "    for recipient in recipients: \n",
    "        if(i > 50): \n",
    "            break\n",
    "            \n",
    "        if recipient in read_recipients:\n",
    "            # print(\"Done Already\", recipient)\n",
    "            continue\n",
    "        \n",
    "        i+=1\n",
    "        if is_valid_email(recipient) == False:\n",
    "            read_recipients.append(recipient)\n",
    "            print(i, recipient, \"Not Done\")\n",
    "            continue\n",
    "\n",
    "        try:\n",
    "            msg = MIMEMultipart()\n",
    "            msg['Subject'] = content['subject']\n",
    "            msg.attach(MIMEText(content['body'], 'html'))\n",
    "            msg['To'] = recipient\n",
    "            context.sendmail(user[\"email\"], recipient, msg.as_string())\n",
    "            read_recipients.append(recipient)\n",
    "            \n",
    "            print(i, recipient)\n",
    "        except:\n",
    "            print(\"Mail Failed\")\n",
    "            \n",
    "        df_read = pd.DataFrame(read_recipients, columns=['Email'])\n",
    "        df_read.to_csv('maildone.csv')\n",
    "    \n",
    "    context.quit()\n",
    "    return i"
   ]
  },
  {
   "cell_type": "code",
   "execution_count": 42,
   "id": "3d1a20b2",
   "metadata": {},
   "outputs": [
    {
     "name": "stdin",
     "output_type": "stream",
     "text": [
      "ENTER VALUE:  144\n"
     ]
    },
    {
     "name": "stdout",
     "output_type": "stream",
     "text": [
      "Wrong Value\n"
     ]
    }
   ],
   "source": [
    "x = int(input(\"ENTER VALUE: \"))\n",
    "\n",
    "if(x != 101):\n",
    "    print(\"Wrong Value\")\n",
    "\n",
    "else:\n",
    "    print(\"Starting\")\n",
    "\n",
    "    total_mailed = 0\n",
    "    for _ in range(1000):\n",
    "        val = sendmail()\n",
    "        total_mailed += val\n",
    "        \n",
    "        print(\"\\nDone:\", _ + 1, \"\\n\")\n",
    "        if(val == 0):\n",
    "            print(\"COMPLETED\")\n",
    "            break\n",
    "            \n",
    "        time.sleep(20)"
   ]
  },
  {
   "cell_type": "markdown",
   "id": "2ed74db5-a5e7-400e-af10-634dfd2f76ef",
   "metadata": {},
   "source": [
    "# Functions 2"
   ]
  },
  {
   "cell_type": "code",
   "execution_count": 43,
   "id": "59909fc1-66d8-40bf-85df-508114862ce1",
   "metadata": {},
   "outputs": [],
   "source": [
    "def sendsinglemail(email):\n",
    "    try:\n",
    "        context = smtplib.SMTP(smtp_server, smtp_port)\n",
    "        context.starttls()\n",
    "        context.login(user[\"email\"], user[\"password\"])\n",
    "    \n",
    "        msg = MIMEMultipart()\n",
    "        msg['Subject'] = content[\"subject\"]\n",
    "        msg.attach(MIMEText(content[\"body\"], 'html'))\n",
    "        msg['To'] = email\n",
    "    \n",
    "        context.sendmail(user[\"email\"], email, msg.as_string())\n",
    "        context.quit()\n",
    "        \n",
    "        print(\"Mailed to\", email)\n",
    "        \n",
    "    except:\n",
    "        print(\"Mail Failed\")"
   ]
  },
  {
   "cell_type": "code",
   "execution_count": 36,
   "id": "a1eb2656-0122-4350-85b7-7d9e9362167f",
   "metadata": {},
   "outputs": [
    {
     "name": "stdout",
     "output_type": "stream",
     "text": [
      "Mailed to b21175@students.iitmandi.ac.in\n"
     ]
    }
   ],
   "source": [
    "sendsinglemail(\"b21175@students.iitmandi.ac.in\")"
   ]
  },
  {
   "cell_type": "markdown",
   "id": "498f745d",
   "metadata": {},
   "source": [
    "# Code Done Here"
   ]
  },
  {
   "cell_type": "code",
   "execution_count": null,
   "id": "4b404f75-2a3e-4680-ab6b-495f06ea6349",
   "metadata": {},
   "outputs": [],
   "source": []
  }
 ],
 "metadata": {
  "kernelspec": {
   "display_name": "Python 3 (ipykernel)",
   "language": "python",
   "name": "python3"
  },
  "language_info": {
   "codemirror_mode": {
    "name": "ipython",
    "version": 3
   },
   "file_extension": ".py",
   "mimetype": "text/x-python",
   "name": "python",
   "nbconvert_exporter": "python",
   "pygments_lexer": "ipython3",
   "version": "3.11.5"
  }
 },
 "nbformat": 4,
 "nbformat_minor": 5
}
